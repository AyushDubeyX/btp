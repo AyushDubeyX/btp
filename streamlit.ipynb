{
 "cells": [
  {
   "cell_type": "code",
   "execution_count": 1,
   "metadata": {},
   "outputs": [],
   "source": [
    "import pandas as pd\n",
    "import numpy as np\n",
    "import matplotlib.pyplot as plt"
   ]
  },
  {
   "cell_type": "code",
   "execution_count": 3,
   "metadata": {},
   "outputs": [],
   "source": [
    "df = pd.read_csv('C:/Users/Ayush Dubey/Desktop/honeycomb_data.csv')"
   ]
  },
  {
   "cell_type": "code",
   "execution_count": 4,
   "metadata": {},
   "outputs": [
    {
     "name": "stdout",
     "output_type": "stream",
     "text": [
      "Maximum value of E11 is at \n",
      "H         6.000000\n",
      "L        11.684211\n",
      "h_rib     0.334222\n",
      "t         1.747368\n",
      "u11       0.102180\n",
      "u12       0.147963\n",
      "nu12     -2.986260\n",
      "e11       0.292499\n",
      "Name: 2581, dtype: float64\n"
     ]
    }
   ],
   "source": [
    "# Finding maximum nu12 for a given e11\n",
    "tol = 0.05\n",
    "desired_nu12 = -3\n",
    "\n",
    "def get_best_row(df, desired_nu12):\n",
    "    # Filter rows within the tolerance range\n",
    "    filtered_df = df[(df['nu12'] >= desired_nu12 - tol) & (df['nu12'] <= desired_nu12 + tol)]\n",
    "    \n",
    "    # If no rows found within the tolerance, return None\n",
    "    if filtered_df.empty:\n",
    "        return None  \n",
    "\n",
    "    # Select the row with the maximum e11\n",
    "    best_row = filtered_df.loc[filtered_df['e11'].idxmax()]\n",
    "    \n",
    "    return best_row\n",
    "\n",
    "# Example usage\n",
    "best_row = get_best_row(df, desired_nu12)\n",
    "print(\"Maximum value of E11 is at \")\n",
    "print(best_row)"
   ]
  },
  {
   "cell_type": "code",
   "execution_count": 5,
   "metadata": {},
   "outputs": [
    {
     "name": "stdout",
     "output_type": "stream",
     "text": [
      "Minimum value of nu12 is at \n",
      "H         6.000000\n",
      "L        15.000000\n",
      "h_rib     0.667444\n",
      "t         1.168421\n",
      "u11       0.276952\n",
      "u12       1.651575\n",
      "nu12    -16.774478\n",
      "e11       0.147198\n",
      "Name: 3872, dtype: float64\n"
     ]
    }
   ],
   "source": [
    "# Finding minimum nu12 for a given e11\n",
    "tol = 0.005\n",
    "desired_e11 = 0.15\n",
    "\n",
    "def get_best_row(df, desired_e11):\n",
    "    # Filter rows within the tolerance range\n",
    "    filtered_df = df[(df['e11'] >= desired_e11 - tol) & (df['e11'] <= desired_e11 + tol)]\n",
    "    \n",
    "    # If no rows found within the tolerance, return None\n",
    "    if filtered_df.empty:\n",
    "        return None  \n",
    "\n",
    "    # Select the row with the maximum e11\n",
    "    best_row = filtered_df.loc[filtered_df['nu12'].idxmin()]\n",
    "    \n",
    "    return best_row\n",
    "\n",
    "# Example usage\n",
    "best_row = get_best_row(df, desired_e11)\n",
    "print(\"Minimum value of nu12 is at \")\n",
    "print(best_row)"
   ]
  },
  {
   "cell_type": "code",
   "execution_count": null,
   "metadata": {},
   "outputs": [],
   "source": []
  }
 ],
 "metadata": {
  "kernelspec": {
   "display_name": "Python 3",
   "language": "python",
   "name": "python3"
  },
  "language_info": {
   "codemirror_mode": {
    "name": "ipython",
    "version": 3
   },
   "file_extension": ".py",
   "mimetype": "text/x-python",
   "name": "python",
   "nbconvert_exporter": "python",
   "pygments_lexer": "ipython3",
   "version": "3.11.7"
  }
 },
 "nbformat": 4,
 "nbformat_minor": 2
}
